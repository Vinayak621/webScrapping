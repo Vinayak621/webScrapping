{
 "cells": [
  {
   "cell_type": "markdown",
   "metadata": {},
   "source": [
    "# List of all the websites"
   ]
  },
  {
   "cell_type": "code",
   "execution_count": 1,
   "metadata": {},
   "outputs": [
    {
     "data": {
      "text/plain": [
       "'\\nWebsites: \\n a. https://nsktu.ac.in/\\n b. https://www.etsy.com\\n c. https://magicpin.in\\n d. https://www.sportskeeda.com\\n e. https://www.cricbuzz.com\\n f. https://www.iis.net/\\n g. https://www.edureka.co/\\n i. https://www.helpmecovid.com\\n j.https://www.healthifyme.com/\\n\\nCategories: Health, Tech, Education, Sport\\n'"
      ]
     },
     "execution_count": 1,
     "metadata": {},
     "output_type": "execute_result"
    }
   ],
   "source": [
    "'''\n",
    "Websites: \n",
    " a. https://nsktu.ac.in/\n",
    " b. https://www.etsy.com\n",
    " c. https://magicpin.in\n",
    " d. https://www.sportskeeda.com\n",
    " e. https://www.cricbuzz.com\n",
    " f. https://www.iis.net/\n",
    " g. https://www.edureka.co/\n",
    " i. https://www.helpmecovid.com\n",
    " j.https://www.healthifyme.com/\n",
    "\n",
    "Categories: Health, Tech, Education, Sport\n",
    "'''"
   ]
  },
  {
   "cell_type": "markdown",
   "metadata": {},
   "source": [
    "## The approach here is that we will have certain keywords belonging to the particular category, and we will match those keywords with the text and find the class with the maximum value."
   ]
  },
  {
   "cell_type": "code",
   "execution_count": 96,
   "metadata": {},
   "outputs": [],
   "source": [
    "education=['schools','academic','projects','students','library','classes','admission','test','university','training','courses','engineer','courses','pg','diploma',\n",
    "         'curriculum','professors', 'alumni','placement','training','certification','career','masters','webinars']"
   ]
  },
  {
   "cell_type": "markdown",
   "metadata": {},
   "source": [
    "# Assumption made here is that the tech list will contain all the keywords related to e-commerce websites and Paltform as a service softwares"
   ]
  },
  {
   "cell_type": "code",
   "execution_count": 185,
   "metadata": {},
   "outputs": [],
   "source": [
    "tech=['items','entertainment','gifts','clothing','jewellery','accessories','shop','floral','collections','fashion','floral','wall','print','ads','artwork','collectibles', 'decor',\n",
    " 'decorative','solutions','downloads','solutions','services','server', 'hosting','scalable','open','architecture', 'cloud','memory','request','routing', 'web', 'deploy', 'url']"
   ]
  },
  {
   "cell_type": "code",
   "execution_count": 47,
   "metadata": {},
   "outputs": [],
   "source": [
    "health=[ 'weight','loss','wellness','fitness', 'ecosystem', 'improve','health','kg','consistently','vaccine','helpful']"
   ]
  },
  {
   "cell_type": "markdown",
   "metadata": {},
   "source": [
    "# Since the given sports websites mainly contain info aboout cricket,I've considered data only with respect to cricket"
   ]
  },
  {
   "cell_type": "code",
   "execution_count": 5,
   "metadata": {},
   "outputs": [],
   "source": [
    "sport=['cricket','football','wwe','ind','vs','sa','eng','vs','pak','aus','world','cup','runs','remaining','overs','points','table','schedule','match',\n",
    "'live','toss','elected', 'field','weather','forecast']"
   ]
  },
  {
   "cell_type": "markdown",
   "metadata": {},
   "source": [
    "# Given keywords which classifies the websites into their respective categories"
   ]
  },
  {
   "cell_type": "code",
   "execution_count": 206,
   "metadata": {},
   "outputs": [],
   "source": [
    "keywords={'education':0,'tech':0,'health':0,'sport':0}"
   ]
  },
  {
   "cell_type": "markdown",
   "metadata": {},
   "source": [
    "# Import the necessarily required packages"
   ]
  },
  {
   "cell_type": "code",
   "execution_count": 372,
   "metadata": {},
   "outputs": [],
   "source": [
    "from selenium import *\n",
    "from selenium import webdriver\n",
    "from selenium.webdriver.common.by import By\n",
    "from nltk.corpus import stopwords\n",
    "import operator\n",
    "import matplotlib.pyplot as plt"
   ]
  },
  {
   "cell_type": "code",
   "execution_count": 152,
   "metadata": {},
   "outputs": [
    {
     "name": "stderr",
     "output_type": "stream",
     "text": [
      "C:\\Users\\VINAYAKA\\anaconda3\\lib\\site-packages\\ipykernel_launcher.py:1: DeprecationWarning: executable_path has been deprecated, please pass in a Service object\n",
      "  \"\"\"Entry point for launching an IPython kernel.\n"
     ]
    }
   ],
   "source": [
    "browser=webdriver.Chrome('C:\\\\Users\\\\VINAYAKA\\\\chromedriver.exe')"
   ]
  },
  {
   "cell_type": "code",
   "execution_count": 351,
   "metadata": {},
   "outputs": [],
   "source": [
    "browser.get('https://www.healthifyme.com/')\n"
   ]
  },
  {
   "cell_type": "code",
   "execution_count": 352,
   "metadata": {},
   "outputs": [],
   "source": [
    "text = browser.find_elements(By.XPATH,\"/html/body\")"
   ]
  },
  {
   "cell_type": "code",
   "execution_count": 353,
   "metadata": {},
   "outputs": [],
   "source": [
    "list=[]\n",
    "for t in text:\n",
    "    list.append(t.text)"
   ]
  },
  {
   "cell_type": "code",
   "execution_count": 354,
   "metadata": {},
   "outputs": [],
   "source": [
    "str=\"\\n\".join(list)"
   ]
  },
  {
   "cell_type": "code",
   "execution_count": 355,
   "metadata": {},
   "outputs": [
    {
     "data": {
      "text/plain": [
       "'App Store Play Store Meet HealthifyPro The newly launched - Most advanced plan for smart weight loss Chat with Us Know More A Connected Fitness Ecosystem Improve your health holistically, more consistently and experience change like never before. Krishan Thukral I Healthified from 94 to 80 Kg to play with my son. With the HealthifyMe app, Krishan lost 14 Kg and is now his son’s favourite. Copyright © HealthifyMe Wellness Private Limited Terms of Use Privacy Policy Follow Us'"
      ]
     },
     "execution_count": 355,
     "metadata": {},
     "output_type": "execute_result"
    }
   ],
   "source": [
    "str.replace(\"\\n\",\" \")"
   ]
  },
  {
   "cell_type": "code",
   "execution_count": 356,
   "metadata": {},
   "outputs": [],
   "source": [
    "final_list=str.split()"
   ]
  },
  {
   "cell_type": "code",
   "execution_count": 357,
   "metadata": {},
   "outputs": [
    {
     "data": {
      "text/plain": [
       "79"
      ]
     },
     "execution_count": 357,
     "metadata": {},
     "output_type": "execute_result"
    }
   ],
   "source": [
    "len(final_list)"
   ]
  },
  {
   "cell_type": "markdown",
   "metadata": {},
   "source": [
    "# Cleaning the words from the text by:\n",
    "## 1: considering only the words\n",
    "## 2: ignoring the stopwords\n",
    "## 3: converting the words into lowercase"
   ]
  },
  {
   "cell_type": "code",
   "execution_count": 358,
   "metadata": {},
   "outputs": [],
   "source": [
    "only_words=[word for word in final_list if word.isalpha()]"
   ]
  },
  {
   "cell_type": "code",
   "execution_count": 359,
   "metadata": {},
   "outputs": [
    {
     "data": {
      "text/plain": [
       "68"
      ]
     },
     "execution_count": 359,
     "metadata": {},
     "output_type": "execute_result"
    }
   ],
   "source": [
    "len(only_words)"
   ]
  },
  {
   "cell_type": "code",
   "execution_count": 360,
   "metadata": {},
   "outputs": [],
   "source": [
    "lower_case=[word.lower() for word in only_words]"
   ]
  },
  {
   "cell_type": "code",
   "execution_count": 361,
   "metadata": {},
   "outputs": [],
   "source": [
    "stop_words=set(stopwords.words(\"english\"))"
   ]
  },
  {
   "cell_type": "code",
   "execution_count": 362,
   "metadata": {},
   "outputs": [],
   "source": [
    "new_words=[word for word in lower_case if word not in stop_words]"
   ]
  },
  {
   "cell_type": "code",
   "execution_count": 363,
   "metadata": {},
   "outputs": [
    {
     "data": {
      "text/plain": [
       "46"
      ]
     },
     "execution_count": 363,
     "metadata": {},
     "output_type": "execute_result"
    }
   ],
   "source": [
    "len(new_words)\n"
   ]
  },
  {
   "cell_type": "code",
   "execution_count": 364,
   "metadata": {},
   "outputs": [
    {
     "data": {
      "text/plain": [
       "['app',\n",
       " 'store',\n",
       " 'play',\n",
       " 'store',\n",
       " 'meet',\n",
       " 'healthifypro',\n",
       " 'newly',\n",
       " 'launched',\n",
       " 'advanced',\n",
       " 'plan',\n",
       " 'smart',\n",
       " 'weight',\n",
       " 'loss',\n",
       " 'chat',\n",
       " 'us',\n",
       " 'know',\n",
       " 'connected',\n",
       " 'fitness',\n",
       " 'ecosystem',\n",
       " 'improve',\n",
       " 'health',\n",
       " 'consistently',\n",
       " 'experience',\n",
       " 'change',\n",
       " 'like',\n",
       " 'never',\n",
       " 'krishan',\n",
       " 'thukral',\n",
       " 'healthified',\n",
       " 'kg',\n",
       " 'play',\n",
       " 'healthifyme',\n",
       " 'krishan',\n",
       " 'lost',\n",
       " 'kg',\n",
       " 'copyright',\n",
       " 'healthifyme',\n",
       " 'wellness',\n",
       " 'private',\n",
       " 'limited',\n",
       " 'terms',\n",
       " 'use',\n",
       " 'privacy',\n",
       " 'policy',\n",
       " 'follow',\n",
       " 'us']"
      ]
     },
     "execution_count": 364,
     "metadata": {},
     "output_type": "execute_result"
    }
   ],
   "source": [
    "new_words"
   ]
  },
  {
   "cell_type": "code",
   "execution_count": 367,
   "metadata": {},
   "outputs": [],
   "source": [
    "dicti={'health':0,'tech':0,'education':0,'sport':0}"
   ]
  },
  {
   "cell_type": "code",
   "execution_count": 368,
   "metadata": {},
   "outputs": [
    {
     "name": "stdout",
     "output_type": "stream",
     "text": [
      "The total words are 0\n",
      "The total words are 0\n",
      "The total words are 0\n",
      "The total words are 10\n",
      "{'health': 10, 'tech': 0, 'education': 0, 'sport': 0}\n",
      "{'education': 2, 'tech': 3, 'health': 2, 'sport': 2}\n"
     ]
    }
   ],
   "source": [
    "common=[word for word in new_words if word in education]\n",
    "print(\"The total words are\",len(common))\n",
    "dicti['education']=len(common)\n",
    "common1=[word for word in new_words if word in tech]\n",
    "print(\"The total words are\",len(common1))\n",
    "dicti['tech']=len(common1)\n",
    "common2=[word for word in new_words if word in sport]\n",
    "print(\"The total words are\",len(common2))\n",
    "dicti['sport']=len(common2)\n",
    "common3=[word for word in new_words if word in health]\n",
    "print(\"The total words are\",len(common3))\n",
    "dicti['health']=len(common3)\n",
    "print(dicti)\n",
    "keyMax = max(dicti.items(), key = operator.itemgetter(1))[0]\n",
    "keywords[keyMax]=keywords.get(keyMax)+1\n",
    "print(keywords)\n",
    "print(\"\")"
   ]
  },
  {
   "cell_type": "markdown",
   "metadata": {},
   "source": [
    "# FINAL STATE OF THE KEYWORD DICTIONARY AFTER SCRAPPING AND CHECKING WITH ALL THE WEBSITES"
   ]
  },
  {
   "cell_type": "code",
   "execution_count": 371,
   "metadata": {},
   "outputs": [
    {
     "name": "stdout",
     "output_type": "stream",
     "text": [
      "The classification of all the different websites\n",
      "\n",
      "The number of websites belonging to the education category is 2\n",
      "The number of websites belonging to the sport category is 2\n",
      "The number of websites belonging to the tech category is 3\n",
      "The number of websites belonging to the health category is 2\n"
     ]
    }
   ],
   "source": [
    "print(\"The classification of all the different websites\\n\")\n",
    "print(\"The number of websites belonging to the education category is {}\".format(keywords['education']))\n",
    "print(\"The number of websites belonging to the sport category is {}\".format(keywords['sport']))\n",
    "print(\"The number of websites belonging to the tech category is {}\".format(keywords['tech']))\n",
    "print(\"The number of websites belonging to the health category is {}\".format(keywords['health']))"
   ]
  },
  {
   "cell_type": "code",
   "execution_count": 379,
   "metadata": {},
   "outputs": [
    {
     "data": {
      "text/plain": [
       "4"
      ]
     },
     "execution_count": 379,
     "metadata": {},
     "output_type": "execute_result"
    }
   ],
   "source": [
    "names=keywords.keys()\n",
    "len(names)\n",
    "values=keywords.values()\n",
    "len(values)"
   ]
  },
  {
   "cell_type": "markdown",
   "metadata": {},
   "source": [
    "# Bar plot of the different categories "
   ]
  },
  {
   "cell_type": "code",
   "execution_count": 397,
   "metadata": {},
   "outputs": [
    {
     "data": {
      "image/png": "[encoded data removed]",
      "text/plain": [
       "<Figure size 432x288 with 1 Axes>"
      ]
     },
     "metadata": {
      "needs_background": "light"
     },
     "output_type": "display_data"
    }
   ],
   "source": [
    "plt.bar(*zip(*keywords.items()),color=['red', 'pink', 'yellow', 'green'],edgecolor='magenta')\n",
    "plt.show()"
   ]
  },
  {
   "cell_type": "code",
   "execution_count": null,
   "metadata": {},
   "outputs": [],
   "source": []
  }
 ],
 "metadata": {
  "kernelspec": {
   "display_name": "Python 3",
   "language": "python",
   "name": "python3"
  },
  "language_info": {
   "codemirror_mode": {
    "name": "ipython",
    "version": 3
   },
   "file_extension": ".py",
   "mimetype": "text/x-python",
   "name": "python",
   "nbconvert_exporter": "python",
   "pygments_lexer": "ipython3",
   "version": "3.7.6"
  }
 },
 "nbformat": 4,
 "nbformat_minor": 4
}
